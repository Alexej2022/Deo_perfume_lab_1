{
 "cells": [
  {
   "cell_type": "code",
   "execution_count": 1,
   "id": "f7582bd2",
   "metadata": {},
   "outputs": [],
   "source": [
    "# This Python 3 environment comes with many helpful analytics libraries installed\n",
    "# It is defined by the kaggle/python docker image: https://github.com/kaggle/docker-python\n",
    "# For example, here's several helpful packages to load in \n",
    "# Any results you write to the current directory are saved as output."
   ]
  },
  {
   "cell_type": "code",
   "execution_count": 3,
   "id": "eb2f21dc",
   "metadata": {},
   "outputs": [],
   "source": [
    "import numpy as np # linear algebra\n",
    "import pandas as pd # data processing, CSV file I/O (e.g. pd.read_csv)\n",
    "import matplotlib.pyplot as plt\n",
    "\n",
    "import os\n",
    "for dirname, _, filenames in os.walk('Data_train_reduced.csv'):\n",
    "    for filename in filenames:\n",
    "        print(os.path.join(dirname, filename))"
   ]
  },
  {
   "cell_type": "code",
   "execution_count": 5,
   "id": "4c116a99",
   "metadata": {},
   "outputs": [
    {
     "name": "stdout",
     "output_type": "stream",
     "text": [
      "<class 'pandas.core.frame.DataFrame'>\n",
      "RangeIndex: 2500 entries, 0 to 2499\n",
      "Data columns (total 64 columns):\n",
      " #   Column                                                   Non-Null Count  Dtype  \n",
      "---  ------                                                   --------------  -----  \n",
      " 0   Respondent.ID                                            2500 non-null   int64  \n",
      " 1   Product.ID                                               2500 non-null   int64  \n",
      " 2   Product                                                  2500 non-null   object \n",
      " 3   Instant.Liking                                           2500 non-null   int64  \n",
      " 4   q1_1.personal.opinion.of.this.Deodorant                  2500 non-null   int64  \n",
      " 5   q2_all.words                                             2500 non-null   int64  \n",
      " 6   q3_1.strength.of.the.Deodorant                           2500 non-null   int64  \n",
      " 7   q4_1.artificial.chemical                                 2500 non-null   int64  \n",
      " 8   q4_2.attractive                                          2500 non-null   int64  \n",
      " 9   q4_3.bold                                                2500 non-null   int64  \n",
      " 10  q4_4.boring                                              2500 non-null   int64  \n",
      " 11  q4_5.casual                                              2500 non-null   int64  \n",
      " 12  q4_6.cheap                                               2500 non-null   int64  \n",
      " 13  q4_7.clean                                               2500 non-null   int64  \n",
      " 14  q4_8.easy.to.wear                                        2500 non-null   int64  \n",
      " 15  q4_9.elegant                                             2500 non-null   int64  \n",
      " 16  q4_10.feminine                                           2500 non-null   int64  \n",
      " 17  q4_11.for.someone.like.me                                2500 non-null   int64  \n",
      " 18  q4_12.heavy                                              2500 non-null   int64  \n",
      " 19  q4_13.high.quality                                       2500 non-null   int64  \n",
      " 20  q4_14.long.lasting                                       2500 non-null   int64  \n",
      " 21  q4_15.masculine                                          2500 non-null   int64  \n",
      " 22  q4_16.memorable                                          2500 non-null   int64  \n",
      " 23  q4_17.natural                                            2500 non-null   int64  \n",
      " 24  q4_18.old.fashioned                                      2500 non-null   int64  \n",
      " 25  q4_19.ordinary                                           2500 non-null   int64  \n",
      " 26  q4_20.overpowering                                       2500 non-null   int64  \n",
      " 27  q4_21.sharp                                              2500 non-null   int64  \n",
      " 28  q4_22.sophisticated                                      2500 non-null   int64  \n",
      " 29  q4_23.upscale                                            2500 non-null   int64  \n",
      " 30  q4_24.well.rounded                                       2500 non-null   int64  \n",
      " 31  q5_1.Deodorant.is.addictive                              2500 non-null   int64  \n",
      " 32  q7                                                       2500 non-null   int64  \n",
      " 33  q8.1                                                     2500 non-null   int64  \n",
      " 34  q8.2                                                     1500 non-null   float64\n",
      " 35  q8.5                                                     2500 non-null   int64  \n",
      " 36  q8.6                                                     2500 non-null   int64  \n",
      " 37  q8.7                                                     2000 non-null   float64\n",
      " 38  q8.8                                                     500 non-null    float64\n",
      " 39  q8.9                                                     500 non-null    float64\n",
      " 40  q8.10                                                    500 non-null    float64\n",
      " 41  q8.11                                                    2500 non-null   int64  \n",
      " 42  q8.12                                                    2000 non-null   float64\n",
      " 43  q8.13                                                    2500 non-null   int64  \n",
      " 44  q8.17                                                    500 non-null    float64\n",
      " 45  q8.18                                                    1000 non-null   float64\n",
      " 46  q8.19                                                    2500 non-null   int64  \n",
      " 47  q8.20                                                    1500 non-null   float64\n",
      " 48  q9.how.likely.would.you.be.to.purchase.this.Deodorant    2500 non-null   int64  \n",
      " 49  q10.prefer.this.Deodorant.or.your.usual.Deodorant        2500 non-null   int64  \n",
      " 50  q11.time.of.day.would.this.Deodorant.be.appropriate      2500 non-null   int64  \n",
      " 51  q12.which.occasions.would.this.Deodorant.be.appropriate  2500 non-null   int64  \n",
      " 52  Q13_Liking.after.30.minutes                              2500 non-null   int64  \n",
      " 53  q14.Deodorant.overall.on.a.scale.from.1.to.10            2500 non-null   int64  \n",
      " 54  ValSegb                                                  2500 non-null   int64  \n",
      " 55  s7.involved.in.the.selection.of.the.cosmetic.products    2500 non-null   int64  \n",
      " 56  s8.ethnic.background                                     2500 non-null   int64  \n",
      " 57  s9.education                                             2500 non-null   int64  \n",
      " 58  s10.income                                               2500 non-null   int64  \n",
      " 59  s11.marital.status                                       2500 non-null   int64  \n",
      " 60  s12.working.status                                       2500 non-null   int64  \n",
      " 61  s13.2                                                    2500 non-null   float64\n",
      " 62  s13a.b.most.often                                        2500 non-null   int64  \n",
      " 63  s13b.bottles.of.Deodorant.do.you.currently.own           2500 non-null   int64  \n",
      "dtypes: float64(10), int64(53), object(1)\n",
      "memory usage: 1.2+ MB\n",
      "<class 'pandas.core.frame.DataFrame'>\n",
      "RangeIndex: 5105 entries, 0 to 5104\n",
      "Data columns (total 58 columns):\n",
      " #   Column                                                   Non-Null Count  Dtype  \n",
      "---  ------                                                   --------------  -----  \n",
      " 0   Respondent.ID                                            5105 non-null   int64  \n",
      " 1   Product.ID                                               5105 non-null   int64  \n",
      " 2   Product                                                  5105 non-null   object \n",
      " 3   q1_1.personal.opinion.of.this.Deodorant                  5105 non-null   int64  \n",
      " 4   q2_all.words                                             5105 non-null   int64  \n",
      " 5   q3_1.strength.of.the.Deodorant                           5105 non-null   int64  \n",
      " 6   q4_1.artificial.chemical                                 5105 non-null   int64  \n",
      " 7   q4_2.attractive                                          5105 non-null   int64  \n",
      " 8   q4_3.bold                                                5105 non-null   int64  \n",
      " 9   q4_4.boring                                              5105 non-null   int64  \n",
      " 10  q4_5.casual                                              5105 non-null   int64  \n",
      " 11  q4_6.cheap                                               5105 non-null   int64  \n",
      " 12  q4_7.clean                                               5105 non-null   int64  \n",
      " 13  q4_8.easy.to.wear                                        5105 non-null   int64  \n",
      " 14  q4_9.elegant                                             5105 non-null   int64  \n",
      " 15  q4_10.feminine                                           5105 non-null   int64  \n",
      " 16  q4_11.for.someone.like.me                                5105 non-null   int64  \n",
      " 17  q4_12.heavy                                              5105 non-null   int64  \n",
      " 18  q4_13.high.quality                                       5105 non-null   int64  \n",
      " 19  q4_14.long.lasting                                       5105 non-null   int64  \n",
      " 20  q4_15.masculine                                          5105 non-null   int64  \n",
      " 21  q4_16.memorable                                          5105 non-null   int64  \n",
      " 22  q4_17.natural                                            5105 non-null   int64  \n",
      " 23  q4_18.old.fashioned                                      5105 non-null   int64  \n",
      " 24  q4_19.ordinary                                           5105 non-null   int64  \n",
      " 25  q4_20.overpowering                                       5105 non-null   int64  \n",
      " 26  q4_21.sharp                                              5105 non-null   int64  \n",
      " 27  q4_22.sophisticated                                      5105 non-null   int64  \n",
      " 28  q4_23.upscale                                            5105 non-null   int64  \n",
      " 29  q4_24.well.rounded                                       5105 non-null   int64  \n",
      " 30  q5_1.Deodorant.is.addictive                              5105 non-null   int64  \n",
      " 31  q7                                                       5105 non-null   int64  \n",
      " 32  q8.1                                                     5105 non-null   int64  \n",
      " 33  q8.2                                                     5105 non-null   int64  \n",
      " 34  q8.5                                                     5105 non-null   int64  \n",
      " 35  q8.6                                                     5105 non-null   int64  \n",
      " 36  q8.8                                                     5105 non-null   int64  \n",
      " 37  q8.11                                                    5105 non-null   int64  \n",
      " 38  q8.12                                                    5105 non-null   int64  \n",
      " 39  q8.13                                                    5105 non-null   int64  \n",
      " 40  q8.19                                                    5105 non-null   int64  \n",
      " 41  q8.20                                                    5105 non-null   int64  \n",
      " 42  q9.how.likely.would.you.be.to.purchase.this.Deodorant    5105 non-null   int64  \n",
      " 43  q10.prefer.this.Deodorant.or.your.usual.Deodorant        5105 non-null   int64  \n",
      " 44  q11.time.of.day.would.this.Deodorant.be.appropriate      5105 non-null   int64  \n",
      " 45  q12.which.occasions.would.this.Deodorant.be.appropriate  5105 non-null   int64  \n",
      " 46  Q13_Liking.after.30.minutes                              5105 non-null   int64  \n",
      " 47  q14.Deodorant.overall.on.a.scale.from.1.to.10            5105 non-null   int64  \n",
      " 48  ValSegb                                                  5105 non-null   int64  \n",
      " 49  s7.involved.in.the.selection.of.the.cosmetic.products    5105 non-null   int64  \n",
      " 50  s8.ethnic.background                                     5105 non-null   int64  \n",
      " 51  s9.education                                             5105 non-null   int64  \n",
      " 52  s10.income                                               5105 non-null   int64  \n",
      " 53  s11.marital.status                                       5105 non-null   int64  \n",
      " 54  s12.working.status                                       5105 non-null   int64  \n",
      " 55  s13.2                                                    5105 non-null   float64\n",
      " 56  s13a.b.most.often                                        5105 non-null   int64  \n",
      " 57  s13b.bottles.of.Deodorant.do.you.currently.own           5105 non-null   int64  \n",
      "dtypes: float64(1), int64(56), object(1)\n",
      "memory usage: 2.3+ MB\n"
     ]
    }
   ],
   "source": [
    "data = pd.read_csv(\"Data_train_reduced.csv\")\n",
    "test_data = pd.read_csv(\"test_data.csv\")\n",
    "\n",
    "data.info()\n",
    "test_data.info()"
   ]
  },
  {
   "cell_type": "code",
   "execution_count": null,
   "id": "270b97dd",
   "metadata": {},
   "outputs": [],
   "source": []
  },
  {
   "cell_type": "code",
   "execution_count": 6,
   "id": "eca06d6e",
   "metadata": {},
   "outputs": [
    {
     "data": {
      "text/plain": [
       "array(['Deodorant B', 'Deodorant F', 'Deodorant G', 'Deodorant H',\n",
       "       'Deodorant J'], dtype=object)"
      ]
     },
     "execution_count": 6,
     "metadata": {},
     "output_type": "execute_result"
    }
   ],
   "source": [
    "test_data.Product.unique()"
   ]
  },
  {
   "cell_type": "code",
   "execution_count": 7,
   "id": "a76a2358",
   "metadata": {},
   "outputs": [],
   "source": [
    "# I chose the test_data to apply Logistic regression.\n",
    "\n",
    "# But there are 5 product options. So, I filtered the data and there will be 2 product options left.\n",
    "# (\"Deodorant F\" and \"Deodorant G\")"
   ]
  },
  {
   "cell_type": "code",
   "execution_count": 8,
   "id": "ee698204",
   "metadata": {},
   "outputs": [
    {
     "name": "stdout",
     "output_type": "stream",
     "text": [
      "(1020, 58)\n",
      "(1020, 58)\n"
     ]
    }
   ],
   "source": [
    "print(test_data[test_data[\"Product\"] == \"Deodorant F\"].shape)\n",
    "print(test_data[test_data[\"Product\"] == \"Deodorant G\"].shape)"
   ]
  },
  {
   "cell_type": "code",
   "execution_count": 9,
   "id": "cd7a2d07",
   "metadata": {},
   "outputs": [],
   "source": [
    "filt_1 = test_data[\"Product\"] == \"Deodorant F\"\n",
    "filt_2 = test_data[\"Product\"] == \"Deodorant G\"\n",
    "\n",
    "my_data = test_data[filt_1 | filt_2].copy()"
   ]
  },
  {
   "cell_type": "code",
   "execution_count": 10,
   "id": "97a3bbfb",
   "metadata": {},
   "outputs": [],
   "source": [
    "# I am going to use \"my_data\" for the rest of this notebook.\n",
    "\n"
   ]
  },
  {
   "cell_type": "code",
   "execution_count": 11,
   "id": "872b554d",
   "metadata": {},
   "outputs": [
    {
     "name": "stdout",
     "output_type": "stream",
     "text": [
      "<class 'pandas.core.frame.DataFrame'>\n",
      "Int64Index: 2040 entries, 1021 to 3060\n",
      "Data columns (total 58 columns):\n",
      " #   Column                                                   Non-Null Count  Dtype  \n",
      "---  ------                                                   --------------  -----  \n",
      " 0   Respondent.ID                                            2040 non-null   int64  \n",
      " 1   Product.ID                                               2040 non-null   int64  \n",
      " 2   Product                                                  2040 non-null   object \n",
      " 3   q1_1.personal.opinion.of.this.Deodorant                  2040 non-null   int64  \n",
      " 4   q2_all.words                                             2040 non-null   int64  \n",
      " 5   q3_1.strength.of.the.Deodorant                           2040 non-null   int64  \n",
      " 6   q4_1.artificial.chemical                                 2040 non-null   int64  \n",
      " 7   q4_2.attractive                                          2040 non-null   int64  \n",
      " 8   q4_3.bold                                                2040 non-null   int64  \n",
      " 9   q4_4.boring                                              2040 non-null   int64  \n",
      " 10  q4_5.casual                                              2040 non-null   int64  \n",
      " 11  q4_6.cheap                                               2040 non-null   int64  \n",
      " 12  q4_7.clean                                               2040 non-null   int64  \n",
      " 13  q4_8.easy.to.wear                                        2040 non-null   int64  \n",
      " 14  q4_9.elegant                                             2040 non-null   int64  \n",
      " 15  q4_10.feminine                                           2040 non-null   int64  \n",
      " 16  q4_11.for.someone.like.me                                2040 non-null   int64  \n",
      " 17  q4_12.heavy                                              2040 non-null   int64  \n",
      " 18  q4_13.high.quality                                       2040 non-null   int64  \n",
      " 19  q4_14.long.lasting                                       2040 non-null   int64  \n",
      " 20  q4_15.masculine                                          2040 non-null   int64  \n",
      " 21  q4_16.memorable                                          2040 non-null   int64  \n",
      " 22  q4_17.natural                                            2040 non-null   int64  \n",
      " 23  q4_18.old.fashioned                                      2040 non-null   int64  \n",
      " 24  q4_19.ordinary                                           2040 non-null   int64  \n",
      " 25  q4_20.overpowering                                       2040 non-null   int64  \n",
      " 26  q4_21.sharp                                              2040 non-null   int64  \n",
      " 27  q4_22.sophisticated                                      2040 non-null   int64  \n",
      " 28  q4_23.upscale                                            2040 non-null   int64  \n",
      " 29  q4_24.well.rounded                                       2040 non-null   int64  \n",
      " 30  q5_1.Deodorant.is.addictive                              2040 non-null   int64  \n",
      " 31  q7                                                       2040 non-null   int64  \n",
      " 32  q8.1                                                     2040 non-null   int64  \n",
      " 33  q8.2                                                     2040 non-null   int64  \n",
      " 34  q8.5                                                     2040 non-null   int64  \n",
      " 35  q8.6                                                     2040 non-null   int64  \n",
      " 36  q8.8                                                     2040 non-null   int64  \n",
      " 37  q8.11                                                    2040 non-null   int64  \n",
      " 38  q8.12                                                    2040 non-null   int64  \n",
      " 39  q8.13                                                    2040 non-null   int64  \n",
      " 40  q8.19                                                    2040 non-null   int64  \n",
      " 41  q8.20                                                    2040 non-null   int64  \n",
      " 42  q9.how.likely.would.you.be.to.purchase.this.Deodorant    2040 non-null   int64  \n",
      " 43  q10.prefer.this.Deodorant.or.your.usual.Deodorant        2040 non-null   int64  \n",
      " 44  q11.time.of.day.would.this.Deodorant.be.appropriate      2040 non-null   int64  \n",
      " 45  q12.which.occasions.would.this.Deodorant.be.appropriate  2040 non-null   int64  \n",
      " 46  Q13_Liking.after.30.minutes                              2040 non-null   int64  \n",
      " 47  q14.Deodorant.overall.on.a.scale.from.1.to.10            2040 non-null   int64  \n",
      " 48  ValSegb                                                  2040 non-null   int64  \n",
      " 49  s7.involved.in.the.selection.of.the.cosmetic.products    2040 non-null   int64  \n",
      " 50  s8.ethnic.background                                     2040 non-null   int64  \n",
      " 51  s9.education                                             2040 non-null   int64  \n",
      " 52  s10.income                                               2040 non-null   int64  \n",
      " 53  s11.marital.status                                       2040 non-null   int64  \n",
      " 54  s12.working.status                                       2040 non-null   int64  \n",
      " 55  s13.2                                                    2040 non-null   float64\n",
      " 56  s13a.b.most.often                                        2040 non-null   int64  \n",
      " 57  s13b.bottles.of.Deodorant.do.you.currently.own           2040 non-null   int64  \n",
      "dtypes: float64(1), int64(56), object(1)\n",
      "memory usage: 940.3+ KB\n"
     ]
    }
   ],
   "source": [
    "my_data.info()"
   ]
  },
  {
   "cell_type": "code",
   "execution_count": null,
   "id": "6fa2192a",
   "metadata": {},
   "outputs": [],
   "source": [
    "# Dropping the irrelevant columns.\n",
    "\n"
   ]
  },
  {
   "cell_type": "code",
   "execution_count": 12,
   "id": "08135555",
   "metadata": {},
   "outputs": [],
   "source": [
    "my_data.drop([\"Respondent.ID\", \"Product.ID\"], axis=1, inplace=True)"
   ]
  },
  {
   "cell_type": "code",
   "execution_count": 13,
   "id": "4ba8063e",
   "metadata": {},
   "outputs": [],
   "source": [
    "# Product column is updated -> 1 for \"F\" and 0 for \"G\"\n",
    "\n",
    "# # "
   ]
  },
  {
   "cell_type": "code",
   "execution_count": 14,
   "id": "405736c1",
   "metadata": {},
   "outputs": [],
   "source": [
    "my_data.Product = [1 if i == \"Deodorant F\" else 0 for i in my_data.Product]\n"
   ]
  },
  {
   "cell_type": "code",
   "execution_count": 15,
   "id": "58339cab",
   "metadata": {},
   "outputs": [],
   "source": [
    "# Define x and y. Then normalize x columns.\n",
    "\n"
   ]
  },
  {
   "cell_type": "code",
   "execution_count": 16,
   "id": "d3c9bb91",
   "metadata": {},
   "outputs": [
    {
     "name": "stderr",
     "output_type": "stream",
     "text": [
      "C:\\Users\\it-it\\anaconda3\\lib\\site-packages\\numpy\\core\\fromnumeric.py:84: FutureWarning: In a future version, DataFrame.min(axis=None) will return a scalar min over the entire DataFrame. To retain the old behavior, use 'frame.min(axis=0)' or just 'frame.min()'\n",
      "  return reduction(axis=axis, out=out, **passkwargs)\n",
      "C:\\Users\\it-it\\anaconda3\\lib\\site-packages\\numpy\\core\\fromnumeric.py:84: FutureWarning: In a future version, DataFrame.max(axis=None) will return a scalar max over the entire DataFrame. To retain the old behavior, use 'frame.max(axis=0)' or just 'frame.max()'\n",
      "  return reduction(axis=axis, out=out, **passkwargs)\n"
     ]
    }
   ],
   "source": [
    "y = my_data.Product.values\n",
    "x = my_data.drop([\"Product\"],axis=1)\n",
    "x_normalised = (x - np.min(x)) / (np.max(x) - np.min(x))"
   ]
  },
  {
   "cell_type": "code",
   "execution_count": 17,
   "id": "bce7e536",
   "metadata": {},
   "outputs": [],
   "source": [
    "# Split the data into train and test data\n",
    "\n"
   ]
  },
  {
   "cell_type": "code",
   "execution_count": 18,
   "id": "263ffceb",
   "metadata": {},
   "outputs": [],
   "source": [
    "from sklearn.model_selection import train_test_split\n",
    "\n",
    "x_train, x_test, y_train, y_test = train_test_split(x_normalised, y, test_size=0.2, random_state=15)\n",
    "\n",
    "x_train = x_train.T\n",
    "x_test = x_test.T\n",
    "y_train = y_train.T\n",
    "y_test = y_test.T"
   ]
  },
  {
   "cell_type": "code",
   "execution_count": 19,
   "id": "a64a7851",
   "metadata": {},
   "outputs": [
    {
     "name": "stdout",
     "output_type": "stream",
     "text": [
      "(55, 1632)\n",
      "(55, 408)\n",
      "(1632,)\n",
      "(408,)\n"
     ]
    }
   ],
   "source": [
    "print(x_train.shape)\n",
    "print(x_test.shape)\n",
    "\n",
    "print(y_train.shape)\n",
    "print(y_test.shape)"
   ]
  },
  {
   "cell_type": "code",
   "execution_count": 20,
   "id": "28df3690",
   "metadata": {},
   "outputs": [
    {
     "ename": "SyntaxError",
     "evalue": "invalid syntax (817670730.py, line 1)",
     "output_type": "error",
     "traceback": [
      "\u001b[1;36m  File \u001b[1;32m\"C:\\Users\\it-it\\AppData\\Local\\Temp\\ipykernel_19996\\817670730.py\"\u001b[1;36m, line \u001b[1;32m1\u001b[0m\n\u001b[1;33m    Define functions\u001b[0m\n\u001b[1;37m           ^\u001b[0m\n\u001b[1;31mSyntaxError\u001b[0m\u001b[1;31m:\u001b[0m invalid syntax\n"
     ]
    }
   ],
   "source": [
    "# Define functions\n",
    "\n"
   ]
  },
  {
   "cell_type": "code",
   "execution_count": 21,
   "id": "b713e703",
   "metadata": {},
   "outputs": [],
   "source": [
    "# initialise the w and b values\n",
    "def set_initial_w_and_b_values(dimension):\n",
    "    w = np.full((dimension,1),0.01)\n",
    "    b = 0.0\n",
    "    return w,b\n",
    "\n",
    "# sigmoid function for making the values between 0 and 1\n",
    "def sigmoid(z):\n",
    "    return 1.0/(1.0 + np.exp(-z))\n",
    "\n",
    "# forward and backward propagation\n",
    "def forward_and_backward_propagation(w,b,x,y):\n",
    "    z = np.dot(w.T,x) + b\n",
    "    y_head = sigmoid(z)\n",
    "    \n",
    "    loss = -y*np.log(y_head)-(1-y)*np.log(1-y_head)\n",
    "    cost = (np.sum(loss))/x.shape[1]\n",
    "    \n",
    "    derivative_weight = (np.dot(x,((y_head-y).T)))/x.shape[1]\n",
    "    derivative_bias = np.sum(y_head-y)/x.shape[1]\n",
    "    \n",
    "    gradients = {\"derivative_weight\": derivative_weight, \"derivative_bias\": derivative_bias}\n",
    "    \n",
    "    return cost, gradients\n",
    "\n",
    "# update the parameters according to gradients\n",
    "def update(w, b, x, y, learning_rate, number_of_iterarion):\n",
    "    cost_list = []\n",
    "    cost_list2 = []\n",
    "    index = []\n",
    "    \n",
    "    # updating(learning) parameters is number_of_iterarion times\n",
    "    for i in range(number_of_iterarion):\n",
    "        # make forward and backward propagation and find cost and gradients\n",
    "        cost, gradients = forward_and_backward_propagation(w,b,x,y)\n",
    "        cost_list.append(cost)\n",
    "        # update parameters\n",
    "        w = w - learning_rate * gradients[\"derivative_weight\"]\n",
    "        b = b - learning_rate * gradients[\"derivative_bias\"]\n",
    "        if i % int(number_of_iterarion/20) == 0:\n",
    "            cost_list2.append(cost)\n",
    "            index.append(i)\n",
    "            print (\"Cost after iteration %i: %f\" %(i+1, cost))\n",
    "            \n",
    "    parameters = {\"weight\": w,\"bias\": b}\n",
    "    plt.plot(index,cost_list2)\n",
    "    plt.xticks(index,rotation='vertical')\n",
    "    plt.xlabel(\"Number of Iterarion\")\n",
    "    plt.ylabel(\"Cost\")\n",
    "    plt.show()\n",
    "    return parameters, gradients, cost_list\n",
    "\n",
    "# to make predictions\n",
    "def predict(w,b,x):\n",
    "    z = sigmoid(np.dot(w.T,x)+b)\n",
    "    Y_prediction = np.zeros((1,x.shape[1]))\n",
    "    # if z is bigger than 0.5, our prediction is sign one (y_head=1),\n",
    "    # if z is smaller than 0.5, our prediction is sign zero (y_head=0),\n",
    "    for i in range(z.shape[1]):\n",
    "        if z[0,i]<= 0.5:\n",
    "            Y_prediction[0,i] = 0\n",
    "        else:\n",
    "            Y_prediction[0,i] = 1\n",
    "\n",
    "    return Y_prediction\n",
    "\n",
    "# logistic regression function\n",
    "def logistic_regression(x_train, y_train, x_test, y_test, learning_rate ,  num_iterations):\n",
    "    # initialize\n",
    "    dimension =  x_train.shape[0]\n",
    "    w,b = set_initial_w_and_b_values(dimension)\n",
    "\n",
    "    parameters, gradients, cost_list = update(w, b, x_train, y_train, learning_rate, num_iterations)\n",
    "    \n",
    "    y_prediction_train = predict(parameters[\"weight\"],parameters[\"bias\"],x_train)\n",
    "    y_prediction_test = predict(parameters[\"weight\"],parameters[\"bias\"],x_test)\n",
    "\n",
    "    # Print test Errors\n",
    "    print(\"train accuracy: {} %\".format(100 - np.mean(np.abs(y_prediction_train - y_train)) * 100))\n",
    "    print(\"test accuracy: {} %\".format(100 - np.mean(np.abs(y_prediction_test - y_test)) * 100))\n",
    "    "
   ]
  },
  {
   "cell_type": "code",
   "execution_count": 22,
   "id": "62a4341c",
   "metadata": {},
   "outputs": [],
   "source": [
    "# Run the proccess..\n",
    "\n"
   ]
  },
  {
   "cell_type": "code",
   "execution_count": 23,
   "id": "6b28551a",
   "metadata": {},
   "outputs": [
    {
     "name": "stdout",
     "output_type": "stream",
     "text": [
      "Cost after iteration 1: 0.697106\n",
      "Cost after iteration 16: 1.062908\n",
      "Cost after iteration 31: 0.555113\n",
      "Cost after iteration 46: 0.382894\n",
      "Cost after iteration 61: 0.365634\n",
      "Cost after iteration 76: 0.359105\n",
      "Cost after iteration 91: 0.355563\n",
      "Cost after iteration 106: 0.352733\n",
      "Cost after iteration 121: 0.350327\n",
      "Cost after iteration 136: 0.348252\n",
      "Cost after iteration 151: 0.346447\n",
      "Cost after iteration 166: 0.344862\n",
      "Cost after iteration 181: 0.343461\n",
      "Cost after iteration 196: 0.342214\n",
      "Cost after iteration 211: 0.341098\n",
      "Cost after iteration 226: 0.340094\n",
      "Cost after iteration 241: 0.339186\n",
      "Cost after iteration 256: 0.338361\n",
      "Cost after iteration 271: 0.337608\n",
      "Cost after iteration 286: 0.336919\n"
     ]
    },
    {
     "data": {
      "image/png": "[encoded data removed]",
      "text/plain": [
       "<Figure size 640x480 with 1 Axes>"
      ]
     },
     "metadata": {},
     "output_type": "display_data"
    },
    {
     "name": "stdout",
     "output_type": "stream",
     "text": [
      "train accuracy: 86.27450980392157 %\n",
      "test accuracy: 85.04901960784314 %\n"
     ]
    }
   ],
   "source": [
    "logistic_regression(x_train, y_train, x_test, y_test, learning_rate = 1, num_iterations = 300) "
   ]
  },
  {
   "cell_type": "code",
   "execution_count": null,
   "id": "96bea757",
   "metadata": {},
   "outputs": [],
   "source": []
  }
 ],
 "metadata": {
  "kernelspec": {
   "display_name": "Python 3 (ipykernel)",
   "language": "python",
   "name": "python3"
  },
  "language_info": {
   "codemirror_mode": {
    "name": "ipython",
    "version": 3
   },
   "file_extension": ".py",
   "mimetype": "text/x-python",
   "name": "python",
   "nbconvert_exporter": "python",
   "pygments_lexer": "ipython3",
   "version": "3.9.13"
  }
 },
 "nbformat": 4,
 "nbformat_minor": 5
}
